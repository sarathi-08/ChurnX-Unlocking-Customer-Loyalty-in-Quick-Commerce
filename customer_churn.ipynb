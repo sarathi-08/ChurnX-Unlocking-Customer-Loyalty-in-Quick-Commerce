{
 "cells": [
  {
   "cell_type": "code",
   "execution_count": 1,
   "metadata": {},
   "outputs": [
    {
     "name": "stdout",
     "output_type": "stream",
     "text": [
      "Dataset created successfully!\n"
     ]
    },
    {
     "data": {
      "text/html": [
       "<div>\n",
       "<style scoped>\n",
       "    .dataframe tbody tr th:only-of-type {\n",
       "        vertical-align: middle;\n",
       "    }\n",
       "\n",
       "    .dataframe tbody tr th {\n",
       "        vertical-align: top;\n",
       "    }\n",
       "\n",
       "    .dataframe thead th {\n",
       "        text-align: right;\n",
       "    }\n",
       "</style>\n",
       "<table border=\"1\" class=\"dataframe\">\n",
       "  <thead>\n",
       "    <tr style=\"text-align: right;\">\n",
       "      <th></th>\n",
       "      <th>Customer_ID</th>\n",
       "      <th>Last_Order_Date</th>\n",
       "      <th>Order_Frequency</th>\n",
       "      <th>Spend</th>\n",
       "      <th>Discount_Used</th>\n",
       "      <th>App_Usage</th>\n",
       "      <th>Delivery_Issues</th>\n",
       "      <th>Churn</th>\n",
       "    </tr>\n",
       "  </thead>\n",
       "  <tbody>\n",
       "    <tr>\n",
       "      <th>0</th>\n",
       "      <td>1</td>\n",
       "      <td>2023-01-01</td>\n",
       "      <td>6</td>\n",
       "      <td>102.80</td>\n",
       "      <td>Yes</td>\n",
       "      <td>High</td>\n",
       "      <td>No</td>\n",
       "      <td>No</td>\n",
       "    </tr>\n",
       "    <tr>\n",
       "      <th>1</th>\n",
       "      <td>2</td>\n",
       "      <td>2023-01-02</td>\n",
       "      <td>3</td>\n",
       "      <td>422.74</td>\n",
       "      <td>Yes</td>\n",
       "      <td>Medium</td>\n",
       "      <td>No</td>\n",
       "      <td>Yes</td>\n",
       "    </tr>\n",
       "    <tr>\n",
       "      <th>2</th>\n",
       "      <td>3</td>\n",
       "      <td>2023-01-03</td>\n",
       "      <td>4</td>\n",
       "      <td>404.50</td>\n",
       "      <td>No</td>\n",
       "      <td>Medium</td>\n",
       "      <td>Yes</td>\n",
       "      <td>Yes</td>\n",
       "    </tr>\n",
       "    <tr>\n",
       "      <th>3</th>\n",
       "      <td>4</td>\n",
       "      <td>2023-01-04</td>\n",
       "      <td>3</td>\n",
       "      <td>294.69</td>\n",
       "      <td>Yes</td>\n",
       "      <td>Medium</td>\n",
       "      <td>No</td>\n",
       "      <td>No</td>\n",
       "    </tr>\n",
       "    <tr>\n",
       "      <th>4</th>\n",
       "      <td>5</td>\n",
       "      <td>2023-01-05</td>\n",
       "      <td>4</td>\n",
       "      <td>257.29</td>\n",
       "      <td>No</td>\n",
       "      <td>High</td>\n",
       "      <td>No</td>\n",
       "      <td>No</td>\n",
       "    </tr>\n",
       "  </tbody>\n",
       "</table>\n",
       "</div>"
      ],
      "text/plain": [
       "   Customer_ID Last_Order_Date  Order_Frequency   Spend Discount_Used  \\\n",
       "0            1      2023-01-01                6  102.80           Yes   \n",
       "1            2      2023-01-02                3  422.74           Yes   \n",
       "2            3      2023-01-03                4  404.50            No   \n",
       "3            4      2023-01-04                3  294.69           Yes   \n",
       "4            5      2023-01-05                4  257.29            No   \n",
       "\n",
       "  App_Usage Delivery_Issues Churn  \n",
       "0      High              No    No  \n",
       "1    Medium              No   Yes  \n",
       "2    Medium             Yes   Yes  \n",
       "3    Medium              No    No  \n",
       "4      High              No    No  "
      ]
     },
     "execution_count": 1,
     "metadata": {},
     "output_type": "execute_result"
    }
   ],
   "source": [
    "import pandas as pd\n",
    "import numpy as np\n",
    "import random\n",
    "\n",
    "# Define number of customers\n",
    "num_customers = 1000\n",
    "\n",
    "# Generate synthetic customer data\n",
    "data = {\n",
    "    \"Customer_ID\": range(1, num_customers + 1),\n",
    "    \"Last_Order_Date\": pd.date_range(start=\"2023-01-01\", periods=num_customers, freq=\"D\").astype(str),\n",
    "    \"Order_Frequency\": np.random.randint(1, 15, num_customers),  # Number of orders per month\n",
    "    \"Spend\": np.random.uniform(50, 500, num_customers).round(2),  # Amount spent in dollars\n",
    "    \"Discount_Used\": np.random.choice([\"Yes\", \"No\"], num_customers),  # Whether a discount was used\n",
    "    \"App_Usage\": np.random.choice([\"High\", \"Medium\", \"Low\"], num_customers),  # Engagement level\n",
    "    \"Delivery_Issues\": np.random.choice([\"Yes\", \"No\"], num_customers, p=[0.2, 0.8]),  # Delivery problems\n",
    "    \"Churn\": np.random.choice([\"Yes\", \"No\"], num_customers, p=[0.3, 0.7])  # Whether the customer churned\n",
    "}\n",
    "\n",
    "# Convert to DataFrame\n",
    "df = pd.DataFrame(data)\n",
    "\n",
    "# Save dataset to CSV file\n",
    "df.to_csv(\"customer_churn_data.csv\", index=False)\n",
    "\n",
    "# Display first 5 rows\n",
    "print(\"Dataset created successfully!\")\n",
    "df.head()\n"
   ]
  },
  {
   "cell_type": "code",
   "execution_count": 2,
   "metadata": {},
   "outputs": [],
   "source": [
    "df=pd.read_csv(\"customer_churn_data.csv\")"
   ]
  },
  {
   "cell_type": "code",
   "execution_count": 3,
   "metadata": {},
   "outputs": [
    {
     "data": {
      "text/html": [
       "<div>\n",
       "<style scoped>\n",
       "    .dataframe tbody tr th:only-of-type {\n",
       "        vertical-align: middle;\n",
       "    }\n",
       "\n",
       "    .dataframe tbody tr th {\n",
       "        vertical-align: top;\n",
       "    }\n",
       "\n",
       "    .dataframe thead th {\n",
       "        text-align: right;\n",
       "    }\n",
       "</style>\n",
       "<table border=\"1\" class=\"dataframe\">\n",
       "  <thead>\n",
       "    <tr style=\"text-align: right;\">\n",
       "      <th></th>\n",
       "      <th>Customer_ID</th>\n",
       "      <th>Last_Order_Date</th>\n",
       "      <th>Order_Frequency</th>\n",
       "      <th>Spend</th>\n",
       "      <th>Discount_Used</th>\n",
       "      <th>App_Usage</th>\n",
       "      <th>Delivery_Issues</th>\n",
       "      <th>Churn</th>\n",
       "    </tr>\n",
       "  </thead>\n",
       "  <tbody>\n",
       "    <tr>\n",
       "      <th>0</th>\n",
       "      <td>1</td>\n",
       "      <td>2023-01-01</td>\n",
       "      <td>6</td>\n",
       "      <td>102.80</td>\n",
       "      <td>Yes</td>\n",
       "      <td>High</td>\n",
       "      <td>No</td>\n",
       "      <td>No</td>\n",
       "    </tr>\n",
       "    <tr>\n",
       "      <th>1</th>\n",
       "      <td>2</td>\n",
       "      <td>2023-01-02</td>\n",
       "      <td>3</td>\n",
       "      <td>422.74</td>\n",
       "      <td>Yes</td>\n",
       "      <td>Medium</td>\n",
       "      <td>No</td>\n",
       "      <td>Yes</td>\n",
       "    </tr>\n",
       "    <tr>\n",
       "      <th>2</th>\n",
       "      <td>3</td>\n",
       "      <td>2023-01-03</td>\n",
       "      <td>4</td>\n",
       "      <td>404.50</td>\n",
       "      <td>No</td>\n",
       "      <td>Medium</td>\n",
       "      <td>Yes</td>\n",
       "      <td>Yes</td>\n",
       "    </tr>\n",
       "    <tr>\n",
       "      <th>3</th>\n",
       "      <td>4</td>\n",
       "      <td>2023-01-04</td>\n",
       "      <td>3</td>\n",
       "      <td>294.69</td>\n",
       "      <td>Yes</td>\n",
       "      <td>Medium</td>\n",
       "      <td>No</td>\n",
       "      <td>No</td>\n",
       "    </tr>\n",
       "    <tr>\n",
       "      <th>4</th>\n",
       "      <td>5</td>\n",
       "      <td>2023-01-05</td>\n",
       "      <td>4</td>\n",
       "      <td>257.29</td>\n",
       "      <td>No</td>\n",
       "      <td>High</td>\n",
       "      <td>No</td>\n",
       "      <td>No</td>\n",
       "    </tr>\n",
       "  </tbody>\n",
       "</table>\n",
       "</div>"
      ],
      "text/plain": [
       "   Customer_ID Last_Order_Date  Order_Frequency   Spend Discount_Used  \\\n",
       "0            1      2023-01-01                6  102.80           Yes   \n",
       "1            2      2023-01-02                3  422.74           Yes   \n",
       "2            3      2023-01-03                4  404.50            No   \n",
       "3            4      2023-01-04                3  294.69           Yes   \n",
       "4            5      2023-01-05                4  257.29            No   \n",
       "\n",
       "  App_Usage Delivery_Issues Churn  \n",
       "0      High              No    No  \n",
       "1    Medium              No   Yes  \n",
       "2    Medium             Yes   Yes  \n",
       "3    Medium              No    No  \n",
       "4      High              No    No  "
      ]
     },
     "execution_count": 3,
     "metadata": {},
     "output_type": "execute_result"
    }
   ],
   "source": [
    "df.head()"
   ]
  },
  {
   "cell_type": "code",
   "execution_count": 4,
   "metadata": {},
   "outputs": [
    {
     "name": "stdout",
     "output_type": "stream",
     "text": [
      "Customer_ID        0\n",
      "Last_Order_Date    0\n",
      "Order_Frequency    0\n",
      "Spend              0\n",
      "Discount_Used      0\n",
      "App_Usage          0\n",
      "Delivery_Issues    0\n",
      "Churn              0\n",
      "dtype: int64\n"
     ]
    }
   ],
   "source": [
    "print(df.isnull().sum())"
   ]
  },
  {
   "cell_type": "code",
   "execution_count": 6,
   "metadata": {},
   "outputs": [],
   "source": [
    "# Fill missing values ONLY for numerical columns\n",
    "df.fillna(df.select_dtypes(include=['number']).mean(), inplace=True)\n"
   ]
  },
  {
   "cell_type": "code",
   "execution_count": 8,
   "metadata": {},
   "outputs": [
    {
     "name": "stdout",
     "output_type": "stream",
     "text": [
      "Customer_ID        0\n",
      "Last_Order_Date    0\n",
      "Order_Frequency    0\n",
      "Spend              0\n",
      "Discount_Used      0\n",
      "App_Usage          0\n",
      "Delivery_Issues    0\n",
      "Churn              0\n",
      "dtype: int64\n"
     ]
    }
   ],
   "source": [
    "# Fill missing values for numeric columns\n",
    "df.fillna(df.select_dtypes(include=['number']).mean(), inplace=True)\n",
    "\n",
    "# Fill missing values for categorical columns (fixed method)\n",
    "df = df.assign(\n",
    "    Discount_Used=df[\"Discount_Used\"].fillna(df[\"Discount_Used\"].mode()[0]),\n",
    "    App_Usage=df[\"App_Usage\"].fillna(df[\"App_Usage\"].mode()[0]),\n",
    "    Delivery_Issues=df[\"Delivery_Issues\"].fillna(df[\"Delivery_Issues\"].mode()[0])\n",
    ")\n",
    "\n",
    "# Convert Last_Order_Date to datetime format\n",
    "df[\"Last_Order_Date\"] = pd.to_datetime(df[\"Last_Order_Date\"])\n",
    "\n",
    "# Confirm changes\n",
    "print(df.isnull().sum())"
   ]
  },
  {
   "cell_type": "code",
   "execution_count": 9,
   "metadata": {},
   "outputs": [
    {
     "name": "stdout",
     "output_type": "stream",
     "text": [
      "Churn Rate:\n",
      " Churn\n",
      "No     69.6\n",
      "Yes    30.4\n",
      "Name: proportion, dtype: float64\n"
     ]
    }
   ],
   "source": [
    "# Calculate churn rate\n",
    "churn_rate = df[\"Churn\"].value_counts(normalize=True) * 100\n",
    "print(\"Churn Rate:\\n\", churn_rate)\n"
   ]
  },
  {
   "cell_type": "code",
   "execution_count": 10,
   "metadata": {},
   "outputs": [
    {
     "name": "stdout",
     "output_type": "stream",
     "text": [
      "High-Risk Customers:\n",
      "      Customer_ID Last_Order_Date  Order_Frequency  Spend Discount_Used  \\\n",
      "453          454      2024-03-29                1  59.93           Yes   \n",
      "506          507      2024-05-21                1  63.89            No   \n",
      "784          785      2025-02-23                1  59.64            No   \n",
      "958          959      2025-08-16                1  94.77            No   \n",
      "993          994      2025-09-20                1  50.62            No   \n",
      "\n",
      "    App_Usage Delivery_Issues Churn  \n",
      "453       Low             Yes    No  \n",
      "506      High              No    No  \n",
      "784      High              No    No  \n",
      "958      High              No   Yes  \n",
      "993    Medium             Yes   Yes  \n"
     ]
    }
   ],
   "source": [
    "# Filter high-risk customers (low order frequency & low spending)\n",
    "high_risk_customers = df[(df[\"Order_Frequency\"] < 2) & (df[\"Spend\"] < 100)]\n",
    "print(\"High-Risk Customers:\\n\", high_risk_customers.head())\n"
   ]
  },
  {
   "cell_type": "code",
   "execution_count": 11,
   "metadata": {},
   "outputs": [
    {
     "name": "stdout",
     "output_type": "stream",
     "text": [
      "Average Spend by Churn Status:\n",
      " Churn\n",
      "No     274.781480\n",
      "Yes    282.591546\n",
      "Name: Spend, dtype: float64\n"
     ]
    }
   ],
   "source": [
    "avg_spend = df.groupby(\"Churn\")[\"Spend\"].mean()\n",
    "print(\"Average Spend by Churn Status:\\n\", avg_spend)\n"
   ]
  },
  {
   "cell_type": "code",
   "execution_count": 12,
   "metadata": {},
   "outputs": [
    {
     "name": "stdout",
     "output_type": "stream",
     "text": [
      "Average Order Frequency by Churn Status:\n",
      " Churn\n",
      "No     7.466954\n",
      "Yes    7.611842\n",
      "Name: Order_Frequency, dtype: float64\n"
     ]
    }
   ],
   "source": [
    "order_analysis = df.groupby(\"Churn\")[\"Order_Frequency\"].mean()\n",
    "print(\"Average Order Frequency by Churn Status:\\n\", order_analysis)\n"
   ]
  },
  {
   "cell_type": "code",
   "execution_count": 13,
   "metadata": {},
   "outputs": [
    {
     "name": "stdout",
     "output_type": "stream",
     "text": [
      "Discount Usage by Churn Status:\n",
      " Churn  Discount_Used\n",
      "No     No               53.017241\n",
      "       Yes              46.982759\n",
      "Yes    No               51.973684\n",
      "       Yes              48.026316\n",
      "Name: proportion, dtype: float64\n"
     ]
    }
   ],
   "source": [
    "discount_analysis = df.groupby(\"Churn\")[\"Discount_Used\"].value_counts(normalize=True) * 100\n",
    "print(\"Discount Usage by Churn Status:\\n\", discount_analysis)\n"
   ]
  },
  {
   "cell_type": "code",
   "execution_count": 14,
   "metadata": {},
   "outputs": [
    {
     "name": "stdout",
     "output_type": "stream",
     "text": [
      "Delivery Issues by Churn Status:\n",
      " Churn  Delivery_Issues\n",
      "No     No                 79.166667\n",
      "       Yes                20.833333\n",
      "Yes    No                 79.934211\n",
      "       Yes                20.065789\n",
      "Name: proportion, dtype: float64\n"
     ]
    }
   ],
   "source": [
    "delivery_issues_analysis = df.groupby(\"Churn\")[\"Delivery_Issues\"].value_counts(normalize=True) * 100\n",
    "print(\"Delivery Issues by Churn Status:\\n\", delivery_issues_analysis)\n"
   ]
  },
  {
   "cell_type": "code",
   "execution_count": null,
   "metadata": {},
   "outputs": [],
   "source": []
  }
 ],
 "metadata": {
  "kernelspec": {
   "display_name": "base",
   "language": "python",
   "name": "python3"
  },
  "language_info": {
   "codemirror_mode": {
    "name": "ipython",
    "version": 3
   },
   "file_extension": ".py",
   "mimetype": "text/x-python",
   "name": "python",
   "nbconvert_exporter": "python",
   "pygments_lexer": "ipython3",
   "version": "3.12.7"
  }
 },
 "nbformat": 4,
 "nbformat_minor": 2
}
